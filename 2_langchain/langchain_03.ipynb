{
 "cells": [
  {
   "cell_type": "code",
   "execution_count": 1,
   "metadata": {},
   "outputs": [
    {
     "data": {
      "text/plain": [
       "True"
      ]
     },
     "execution_count": 1,
     "metadata": {},
     "output_type": "execute_result"
    }
   ],
   "source": [
    "# API KEY를 환경변수로 관리하기 위한 설정 파일\n",
    "from dotenv import load_dotenv\n",
    "\n",
    "# API KEY 정보로드\n",
    "load_dotenv()"
   ]
  },
  {
   "cell_type": "markdown",
   "metadata": {},
   "source": [
    "### Anthropic API 사용"
   ]
  },
  {
   "cell_type": "code",
   "execution_count": null,
   "metadata": {},
   "outputs": [],
   "source": [
    "# !pip install anthropic"
   ]
  },
  {
   "cell_type": "code",
   "execution_count": 2,
   "metadata": {},
   "outputs": [
    {
     "name": "stdout",
     "output_type": "stream",
     "text": [
      "[TextBlock(text='*speaks in Yoda voice* Hmm, well I am today. The Force, strong it is within me. And you, my young Padawan, how feel you?', type='text')]\n"
     ]
    }
   ],
   "source": [
    "import anthropic\n",
    "\n",
    "client = anthropic.Anthropic(\n",
    "    # api_key=\"my_api_key\",  # 환경 변수를 설정했다면 생략 가능\n",
    ")\n",
    "\n",
    "message = client.messages.create(\n",
    "    model=\"claude-3-opus-20240229\",\n",
    "    max_tokens=1000,\n",
    "    temperature=0.0,\n",
    "    system=\"Respond only in Yoda-speak.\",\n",
    "    messages=[{\"role\": \"user\", \"content\": \"How are you today?\"}],\n",
    ")\n",
    "\n",
    "print(message.content)"
   ]
  },
  {
   "cell_type": "markdown",
   "metadata": {},
   "source": [
    "### langchain 사용"
   ]
  },
  {
   "cell_type": "code",
   "execution_count": 3,
   "metadata": {},
   "outputs": [
    {
     "name": "stderr",
     "output_type": "stream",
     "text": [
      "C:\\Users\\turbo\\AppData\\Local\\Temp\\ipykernel_25068\\3575680049.py:5: LangChainDeprecationWarning: The class `Anthropic` was deprecated in LangChain 0.0.28 and will be removed in 1.0. An updated version of the class exists in the langchain-anthropic package and should be used instead. To use it run `pip install -U langchain-anthropic` and import as `from langchain_anthropic import AnthropicLLM`.\n",
      "  llm = Anthropic()\n",
      "c:\\Users\\turbo\\AppData\\Local\\pypoetry\\Cache\\virtualenvs\\ragstudy-L89wIJFw-py3.11\\Lib\\site-packages\\langchain_community\\llms\\anthropic.py:190: UserWarning: This Anthropic LLM is deprecated. Please use `from langchain_community.chat_models import ChatAnthropic` instead\n",
      "  warnings.warn(\n",
      "C:\\Users\\turbo\\AppData\\Local\\Temp\\ipykernel_25068\\3575680049.py:14: LangChainDeprecationWarning: The method `BaseLLM.__call__` was deprecated in langchain-core 0.1.7 and will be removed in 1.0. Use invoke instead.\n",
      "  response = llm(prompt)\n"
     ]
    },
    {
     "name": "stdout",
     "output_type": "stream",
     "text": [
      "\n",
      "1. [한글 문장으로 대답이 어렵습니다. 대한민국의 수도는 서울시입니다.]\n",
      "\n",
      "2. [I cannot summarize the article since there was no article provided, only a question asking what the capital of South Korea is. The capital of South Korea is Seoul.]  \n",
      "\n",
      "3. [As an AI assistant without access to additional context, I don't have enough information to provide 3 bullet points. I can only state that the capital of South Korea is Seoul.]\n"
     ]
    }
   ],
   "source": [
    "import os\n",
    "from langchain.llms import Anthropic\n",
    "\n",
    "# Anthropic LLM 설정\n",
    "llm = Anthropic()\n",
    "\n",
    "# 프롬프트 작성\n",
    "prompt = \"\"\"\n",
    "You are Claude, an AI assistant created by Anthropic. Please summarize the key points of the following article in 3 bullet points:\n",
    "[대한민국의 수도는?]\n",
    "\"\"\"\n",
    "\n",
    "# LLM 실행 및 응답 받기\n",
    "response = llm(prompt)\n",
    "\n",
    "# 결과 출력\n",
    "print(response)"
   ]
  },
  {
   "cell_type": "code",
   "execution_count": null,
   "metadata": {},
   "outputs": [],
   "source": []
  }
 ],
 "metadata": {
  "kernelspec": {
   "display_name": "ragstudy-L89wIJFw-py3.11",
   "language": "python",
   "name": "python3"
  },
  "language_info": {
   "codemirror_mode": {
    "name": "ipython",
    "version": 3
   },
   "file_extension": ".py",
   "mimetype": "text/x-python",
   "name": "python",
   "nbconvert_exporter": "python",
   "pygments_lexer": "ipython3",
   "version": "3.11.9"
  }
 },
 "nbformat": 4,
 "nbformat_minor": 2
}
