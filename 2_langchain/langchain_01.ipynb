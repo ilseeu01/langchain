{
 "cells": [
  {
   "cell_type": "code",
   "execution_count": 1,
   "metadata": {},
   "outputs": [
    {
     "data": {
      "text/plain": [
       "True"
      ]
     },
     "execution_count": 1,
     "metadata": {},
     "output_type": "execute_result"
    }
   ],
   "source": [
    "from dotenv import load_dotenv\n",
    "# API KEY 정보 불러오기\n",
    "load_dotenv()"
   ]
  },
  {
   "cell_type": "code",
   "execution_count": 2,
   "metadata": {},
   "outputs": [
    {
     "name": "stderr",
     "output_type": "stream",
     "text": [
      "C:\\Users\\turbo\\AppData\\Local\\Temp\\ipykernel_8756\\1771357266.py:2: LangChainDeprecationWarning: The class `OpenAI` was deprecated in LangChain 0.0.10 and will be removed in 1.0. An updated version of the class exists in the langchain-openai package and should be used instead. To use it run `pip install -U langchain-openai` and import as `from langchain_openai import OpenAI`.\n",
      "  llm = OpenAI(temperature=0.9)\n",
      "C:\\Users\\turbo\\AppData\\Local\\Temp\\ipykernel_8756\\1771357266.py:4: LangChainDeprecationWarning: The method `BaseLLM.__call__` was deprecated in langchain-core 0.1.7 and will be removed in 1.0. Use invoke instead.\n",
      "  print(llm(prompt))\n"
     ]
    },
    {
     "name": "stdout",
     "output_type": "stream",
     "text": [
      "\n",
      "\n",
      "Langchain은 다양한 언어를 연결하는 블록체인 기술을 나타내는 용어입니다. 현재 운영되는 블록체인은 대부분 영어를 기반으로 한 기술로, 많은 비영어권 사용자들은 어려움을 겪을 수 있습니다. Langchain은 이러한 언어적 장벽을 극복하고 다언어 사용자들도 블록체인 기술을 쉽게 이용할 수 있도록 도와줍니다. 또한 Langchain은 다언어 사용자들을 위한 블록체인 애플리케이션을 개발하고 이를 지원하는 기술적 생태계를 구축하는 것을 목표로 하고 있습니다.\n"
     ]
    }
   ],
   "source": [
    "from langchain.llms import OpenAI\n",
    "llm = OpenAI(temperature=0.9)\n",
    "prompt = \"Langchain이란 무엇인가?\"\n",
    "print(llm(prompt))"
   ]
  },
  {
   "cell_type": "code",
   "execution_count": null,
   "metadata": {},
   "outputs": [],
   "source": []
  }
 ],
 "metadata": {
  "kernelspec": {
   "display_name": "ragstudy-L89wIJFw-py3.11",
   "language": "python",
   "name": "python3"
  },
  "language_info": {
   "codemirror_mode": {
    "name": "ipython",
    "version": 3
   },
   "file_extension": ".py",
   "mimetype": "text/x-python",
   "name": "python",
   "nbconvert_exporter": "python",
   "pygments_lexer": "ipython3",
   "version": "3.11.9"
  }
 },
 "nbformat": 4,
 "nbformat_minor": 2
}
