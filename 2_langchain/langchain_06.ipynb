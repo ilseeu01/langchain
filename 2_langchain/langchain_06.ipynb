{
 "cells": [
  {
   "cell_type": "code",
   "execution_count": 1,
   "metadata": {},
   "outputs": [
    {
     "data": {
      "text/plain": [
       "True"
      ]
     },
     "execution_count": 1,
     "metadata": {},
     "output_type": "execute_result"
    }
   ],
   "source": [
    "import os\n",
    "from dotenv import load_dotenv\n",
    "# API KEY 정보 불러오기\n",
    "load_dotenv()"
   ]
  },
  {
   "cell_type": "code",
   "execution_count": 2,
   "metadata": {},
   "outputs": [],
   "source": [
    "# pdf 읽고, 분할하기\n",
    "from langchain.document_loaders import PyPDFLoader\n",
    "\n",
    "loader = PyPDFLoader(\"./data/소나기 - 황순원.pdf\") \n",
    "docs = loader.load_and_split()"
   ]
  },
  {
   "cell_type": "code",
   "execution_count": 3,
   "metadata": {},
   "outputs": [
    {
     "name": "stderr",
     "output_type": "stream",
     "text": [
      "C:\\Users\\turbo\\AppData\\Local\\Temp\\ipykernel_19224\\2034491755.py:7: LangChainDeprecationWarning: The method `Chain.run` was deprecated in langchain 0.1.0 and will be removed in 1.0. Use invoke instead.\n",
      "  summary = chain.run(docs)\n"
     ]
    },
    {
     "name": "stdout",
     "output_type": "stream",
     "text": [
      "A boy frequently encounters a girl, the great-granddaughter of a local notable, at a stream on his way home from school. They develop a playful and meaningful connection, exploring the countryside together and sharing moments of joy and care. The girl eventually falls ill after a rainy day they spent together, and her family faces financial difficulties, leading to their move. The boy feels a deep sense of loss and longing as he learns of her departure. Later, he overhears that the girl's family, once wealthy, has suffered many misfortunes, and the girl has passed away after a prolonged illness, requesting to be buried in the clothes she wore.\n"
     ]
    }
   ],
   "source": [
    "# 내용 정리하기 \n",
    "from langchain_openai import ChatOpenAI\n",
    "from langchain.chains.summarize import load_summarize_chain\n",
    "\n",
    "llm = ChatOpenAI(temperature=0,model_name='gpt-4o')\n",
    "chain = load_summarize_chain(llm, chain_type=\"map_reduce\")\n",
    "summary = chain.run(docs)\n",
    "print(summary)"
   ]
  },
  {
   "cell_type": "code",
   "execution_count": 4,
   "metadata": {},
   "outputs": [
    {
     "name": "stdout",
     "output_type": "stream",
     "text": [
      "A boy frequently encounters a girl at a stream on his way home from school, gradually becoming intrigued by her. After a playful interaction, he keeps a pebble she threw at him as a memento. As they spend time together exploring the countryside, they form a deep connection, sharing innocent and spontaneous childhood moments. The boy helps the girl when she gets injured, showcasing his protective nature. After a rainstorm, the girl falls ill, and they eventually reunite, sharing unspoken emotions as her family prepares to move due to financial difficulties. The boy, saddened by her impending departure, collects walnuts to give her but regrets not arranging a final meeting. Meanwhile, a conversation reveals the misfortunes of the girl's family, who have lost their wealth and children, with only one granddaughter remaining, who recently passed away.\n"
     ]
    }
   ],
   "source": [
    "# 내용 정리하기 - invoke 사용\n",
    "from langchain_openai import ChatOpenAI\n",
    "from langchain.chains.summarize import load_summarize_chain\n",
    "\n",
    "llm = ChatOpenAI(temperature=0,model_name='gpt-4o')\n",
    "chain = load_summarize_chain(llm, chain_type=\"map_reduce\")\n",
    "\n",
    "summary = chain.invoke(docs)\n",
    "print(summary['output_text'])"
   ]
  },
  {
   "cell_type": "markdown",
   "metadata": {},
   "source": [
    "### 번역 : DEEPL API 사용"
   ]
  },
  {
   "cell_type": "code",
   "execution_count": 4,
   "metadata": {},
   "outputs": [
    {
     "name": "stdout",
     "output_type": "stream",
     "text": [
      "안녕하세요, 세상 여러분!\n"
     ]
    }
   ],
   "source": [
    "import deepl\n",
    "\n",
    "auth_key = os.getenv(\"DEEPL_API_KEY\")\n",
    "translator = deepl.Translator(auth_key)\n",
    "result = translator.translate_text(\"Hello, world!\", target_lang=\"KO\")\n",
    "print(result.text)"
   ]
  },
  {
   "cell_type": "code",
   "execution_count": 8,
   "metadata": {},
   "outputs": [
    {
     "name": "stdout",
     "output_type": "stream",
     "text": [
      "[영문]: A boy frequently encounters a girl at a stream on his way home from school and becomes intrigued by her. They develop a bond through shared adventures in the countryside, but the girl eventually reveals her family is moving away due to financial difficulties. Despite his sadness, the boy gathers walnuts as a parting gift for her. The narrative also touches on the misfortunes of the girl's family, who have lost their wealth and children, leaving only a granddaughter who recently passed away. The story highlights themes of childhood curiosity, friendship, and the impact of change and loss.\n",
      "\n",
      "[한글]: 한 소년이 하굣길에 개울가에서 한 소녀를 자주 만나게 되고 그녀에게 흥미를 느낍니다. 둘은 시골에서 함께 모험을 즐기며 정을 쌓지만, 결국 소녀는 경제적 어려움으로 가족이 이사를 간다는 사실을 밝힙니다. 소년은 슬픔에도 불구하고 소녀를 위해 호두를 모아 이별 선물로 준비합니다. 이 이야기는 최근 세상을 떠난 손녀만 남기고 재산과 자식을 모두 잃은 소녀의 가족의 불행도 다루고 있습니다. 이 이야기는 어린 시절의 호기심, 우정, 변화와 상실의 영향이라는 주제를 강조합니다.\n"
     ]
    }
   ],
   "source": [
    "print(f\"[영문]: {summary['output_text']}\\n\")\n",
    "translator = deepl.Translator(auth_key)\n",
    "result = translator.translate_text(summary['output_text'], target_lang=\"KO\")\n",
    "print(f\"[한글]: {result.text}\")"
   ]
  },
  {
   "cell_type": "markdown",
   "metadata": {},
   "source": [
    "### google 번역 API"
   ]
  },
  {
   "cell_type": "code",
   "execution_count": null,
   "metadata": {},
   "outputs": [],
   "source": [
    "# !pip install deep-translator"
   ]
  },
  {
   "cell_type": "code",
   "execution_count": 9,
   "metadata": {},
   "outputs": [
    {
     "name": "stdout",
     "output_type": "stream",
     "text": [
      "안녕하세요. 어떻게 지내세요?\n"
     ]
    }
   ],
   "source": [
    "from deep_translator import GoogleTranslator\n",
    "\n",
    "# GoogleTranslator를 사용하여 간단한 번역\n",
    "translator = GoogleTranslator(source='auto', target='ko')\n",
    "translated_text = translator.translate(\"Hello, how are you?\")\n",
    "print(translated_text)"
   ]
  },
  {
   "cell_type": "code",
   "execution_count": 10,
   "metadata": {},
   "outputs": [
    {
     "name": "stdout",
     "output_type": "stream",
     "text": [
      "소년은 종종 학교에서 집으로가는 길에 시내에서 소녀를 만나고 그녀에게 흥미를 느낍니다. 그들은 시골에서 공동 모험을 통해 유대를 발전 시키지만, 소녀는 결국 재정적 어려움으로 인해 가족이 떠나고 있음을 밝힙니다. 그의 슬픔에도 불구하고, 소년은 호두를 그녀를위한 이별 선물로 모았습니다. 이야기는 또한 부와 자녀를 잃은 소녀 가족의 불행에 대해서도 최근에 세상을 떠난 손녀 만 남습니다. 이 이야기는 어린 시절 호기심, 우정, 변화와 상실의 영향에 대한 주제를 강조합니다.\n"
     ]
    }
   ],
   "source": [
    "translated_text = translator.translate(summary['output_text'])\n",
    "print(translated_text)"
   ]
  },
  {
   "cell_type": "code",
   "execution_count": null,
   "metadata": {},
   "outputs": [],
   "source": []
  }
 ],
 "metadata": {
  "kernelspec": {
   "display_name": "ragstudy-L89wIJFw-py3.11",
   "language": "python",
   "name": "python3"
  },
  "language_info": {
   "codemirror_mode": {
    "name": "ipython",
    "version": 3
   },
   "file_extension": ".py",
   "mimetype": "text/x-python",
   "name": "python",
   "nbconvert_exporter": "python",
   "pygments_lexer": "ipython3",
   "version": "3.11.9"
  }
 },
 "nbformat": 4,
 "nbformat_minor": 2
}
