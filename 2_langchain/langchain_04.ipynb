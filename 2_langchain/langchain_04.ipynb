{
 "cells": [
  {
   "cell_type": "markdown",
   "metadata": {},
   "source": [
    "### Ollama 사용"
   ]
  },
  {
   "cell_type": "markdown",
   "metadata": {},
   "source": [
    "### langchain 사용"
   ]
  },
  {
   "cell_type": "code",
   "execution_count": 1,
   "metadata": {},
   "outputs": [
    {
     "name": "stdout",
     "output_type": "stream",
     "text": [
      "대한민국은 현재 약 **5,180만 명의 인구**를 보유하고 있습니다. 이는 국가의 경제 활동과 사회 구조에 큰 영향을 미치며, 젊은 인구 비율이 높아 향후 노동력과 소비 시장의 지속적인 성장이 예상됩니다. 또한, 저출산과 고령화 문제는 정책 수립 시 중요한 고려사항으로 다루어지고 있습니다. 이러한 인구 동향은 정부의 다양한 사회보장 정책과 경제 정책에 반영되어 미래 발전 방향을 모색하고 있습니다.\n"
     ]
    }
   ],
   "source": [
    "from langchain_community.chat_models import ChatOllama\n",
    "from langchain_core.output_parsers import StrOutputParser\n",
    "from langchain_core.prompts import ChatPromptTemplate\n",
    "\n",
    "# Ollama 모델을 불러옵니다.\n",
    "llm = ChatOllama(model=\"exaone3.5:2.4b\")\n",
    "\n",
    "# 프롬프트\n",
    "prompt = ChatPromptTemplate.from_template(\"{topic} 에 대하여 간략히 설명해 줘.\")\n",
    "\n",
    "# 체인 생성\n",
    "chain = prompt | llm | StrOutputParser()\n",
    "\n",
    "# 간결성을 위해 응답은 터미널에 출력됩니다.\n",
    "answer = chain.invoke({\"topic\": \"대한민국의 인구\"})\n",
    "\n",
    "print(answer)"
   ]
  },
  {
   "cell_type": "code",
   "execution_count": 2,
   "metadata": {},
   "outputs": [
    {
     "name": "stdout",
     "output_type": "stream",
     "text": [
      "한국인구 (Republic of Korea)의 인구에 대해 궁금한 점을 도와드리겠습니다! 대한민국은 동아시아에 위치하며 북한과 남쪽으로 대만을 두고 있습니다. 세계에서 28번째로 큰 나라이며 총 면적은 약 10만 제곱킬로미터(3만9천 평방마일)입니다.\n",
      "\n",
      "2021년 기준으로 한국의 인구는 약 5,186만 명으로 추정됩니다. 한반도에는 주로 한국어를 사용하는 한민족이 거주하며, 이는 전 세계적으로 가장 큰 민족 집단을 형성합니다. 한국인구 인구의 다수는 서울과 수도권 지역에 집중되어 있으며, 수도인 서울은 세계에서 가장 크고 인구 밀도가 높은 도시 중 하나입니다.\n",
      "\n",
      "한국인구는 비교적 고령화 추세에 있으며, 전체 인구 중 65세 이상 노인이 차지하는 비율이 14% 이상으로 빠르게 증가하고 있습니다. 출산율도 감소하고 있어 장기적으로 인구 규모에 영향을 줄 것으로 예상됩니다. 또한 최근 몇 년 동안 이민자 수가 증가하여 현재 한국인구 인구의 약 3%를 차지합니다.\n",
      "\n",
      "한국인구는 교육 수준이 대체로 높으며, 대학 학위를 가진 성인의 비율이 60% 이상을 차지하고 있습니다. 한국의 교육은 엄격한 학문적 요구사항으로 알려져 있으며, 학생들의 경쟁이 치열하기로 유명합니다. 경제적으로도 한국은 선진국이며, 세계에서 12번째로 큰 GDP를 보유하고 있습니다.\n",
      "\n",
      "최근 몇 년 동안 한국인구는 상당한 변화를 경험했으며, 특히 출산율 감소와 고령화 추세가 그러합니다. 이러한 추세에 대응하여 정부는 저출산 문제를 완화하고 노령 인구의 요구를 충족시키기 위한 정책 수립에 중점을 두고 있습니다. 또한 이민자 유입이 증가함에 따라 다문화 사회를 촉진하는 사회 통합 노력도 이루어지고 있습니다.\n",
      "\n",
      "전반적으로, 한국인구는 문화적이고 언어적인 동질성이 높고 교육 수준이 높으며 경제적으로 강력한 국가입니다. 인구 규모와 구성의 변화는 한국의 미래를 형성하는데 있어 중요한 역할을 할 것으로 전망됩니다.\n"
     ]
    }
   ],
   "source": [
    "from langchain_community.chat_models import ChatOllama\n",
    "from langchain_core.output_parsers import StrOutputParser\n",
    "from langchain_core.prompts import ChatPromptTemplate\n",
    "\n",
    "# Ollama 모델을 불러옵니다.\n",
    "llm = ChatOllama(\n",
    "    model=\"EEVE-Korean-10.8B:latest\",\n",
    "    base_url='http://1.227.21.165:11434', #remote ubuntu\n",
    ")\n",
    "\n",
    "# 프롬프트\n",
    "prompt = ChatPromptTemplate.from_template(\"{topic} 에 대하여 간략히 설명해 줘.\")\n",
    "\n",
    "# 체인 생성\n",
    "chain = prompt | llm | StrOutputParser()\n",
    "\n",
    "# 간결성을 위해 응답은 터미널에 출력됩니다.\n",
    "answer = chain.invoke({\"topic\": \"대한민국의 인구\"})\n",
    "\n",
    "print(answer)"
   ]
  },
  {
   "cell_type": "code",
   "execution_count": null,
   "metadata": {},
   "outputs": [],
   "source": []
  }
 ],
 "metadata": {
  "kernelspec": {
   "display_name": "ragstudy-L89wIJFw-py3.11",
   "language": "python",
   "name": "python3"
  },
  "language_info": {
   "codemirror_mode": {
    "name": "ipython",
    "version": 3
   },
   "file_extension": ".py",
   "mimetype": "text/x-python",
   "name": "python",
   "nbconvert_exporter": "python",
   "pygments_lexer": "ipython3",
   "version": "3.11.9"
  }
 },
 "nbformat": 4,
 "nbformat_minor": 2
}
