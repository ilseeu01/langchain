{
 "cells": [
  {
   "cell_type": "code",
   "execution_count": 1,
   "metadata": {},
   "outputs": [
    {
     "data": {
      "text/plain": [
       "True"
      ]
     },
     "execution_count": 1,
     "metadata": {},
     "output_type": "execute_result"
    }
   ],
   "source": [
    "import os\n",
    "from dotenv import load_dotenv\n",
    "\n",
    "# API KEY 정보 불러오기\n",
    "load_dotenv()"
   ]
  },
  {
   "cell_type": "markdown",
   "metadata": {},
   "source": [
    "### 뉴스검색 : Tavily API 사용"
   ]
  },
  {
   "cell_type": "code",
   "execution_count": 2,
   "metadata": {},
   "outputs": [
    {
     "name": "stdout",
     "output_type": "stream",
     "text": [
      "{'url': 'https://m.kin.naver.com/qna/dirs/40102/docs/482086423?answerNo=8', 'content': '더보기 현재 테슬라(TSLA) 주가는281.95달러로 전 거래일 대비-3.04% 하락한 상태입니다. 캔들 차트를 보면 최근 하락세가 뚜렷하며,하락 채널(Downtrend Channel)내에서 지속적으로 하락하고 있습니다.https://jumsblog.tistory.com/50테슬라(TSLA) 주가 차트 분석 및 전망 (2025년 2월 28일 기준)1. 테슬라 주가 현황현재 테슬라(TSLA) 주가는 281.95달러로 전 거래일 대비 -3.04% 하락한 상태입니다. 캔들 차트를 보면 최근 하락세가 뚜렷하며, 하락 채널(Downtrend Channel) 내에서 지속적으로 하락하고 있습니다.시가: 291.16달러고가: 297.23달러저가: 280.88달러현재가: 281.95달러변동폭: -8.85달러 (-3.04%)최근 고점(약 500달러)에서 지속적인 하락세를 보이며, 단기적 하락 추세가 유지되고 있습니다. 차트에 그려진 **하락 채널(노란색 선)**을 보면, 현재 주가는 하락 [...] 더보기 안녕하세요 질문자님.먼저 주식을 입문하시기 전에 주식에 관한 공부가 반드시 필요하다는 점 말씀드리고 싶습니다.지적을 하는 글이 아니며, 자신의 자산을 소중하게 다루어야 한다는 것을 알리고 싶습니다..제가 생각하기에 2025년의 테슬라는 전기차 시장의 선두주자로서 자율주행과 배터리 기술 혁신에 큰 투자를 하고 있습니다. 이로 인해 2025년 주가는 $300~$400로 상승할 가능성이 높아 보입니다. 그러나 경쟁사들의 성장이 변수로 작용할 수 있어, 장기적인 관점에서 분할 매수 전략을 고려하는 것이 바람직합니다.테슬라에 관해 더욱 자세한 분석글을 보고 싶으시다면 아래 글을 참고하시길 바랍니다.\\u200b* 채택된 답변의 해피빈은 불우이웃에게 기부하오니,답변이 마음에 드셨다면 채택부탁드립니다.\\u200b테슬라 주가 전망 2025 투자 전략 파헤치기테슬라의 미래, 지금 투자해야 할까?최근 몇 년간 테슬라 주가 전망은 급격한 변동을 보여왔습니다. 전기차 시장의 선두주자로 자리 잡았으며, 자율주행 [...] 본문 더보기\\nUPDOWN\\n댓글\\n 푸른하늘은하수물신eXpert 뱃지 2025.02.28\\n메뉴 더보기\\n 1:1 상담 [톡50분, 음성30분] 아프지 말고 혼자 고민하지 마세요. 판매가45,000원\\n접기\\n더보기 테슬라는 애플과 같은 세상을 바꾸는 기업이죠. 그 CEO 일론 머스크 역시도 그 옛날 에디슨과 같은 세상을 바꾸고 있는 인물입니다. 전 6년 전부터 장기투자 중인데, 무지성 보다는 잘 알고 투자해서 꼭 성공하고 부자 되세요.^^ 2025 FSD 중국 승인과 사이버캡, 그리고 주가전망https://vo.la/azJvtJ 더보기\\nUPDOWN\\n댓글\\n12개 더보기\\n엑스퍼트 추천 상품\\n바로가기\\n조현걸 CFP2023년 새로운 부동산 설계 콘서트 판매가100,000원3회\\n 접속중\\n박수연AFPK\\ufeff내 보험 바로알기 (feat. 보험 고민 상담소) 판매가30,000원30분\\n 접속중\\n함께 보면 좋은 키워드'}\n",
      "----------------------------------------------------------------------------------------------------\n",
      "{'url': 'https://m.kin.naver.com/qna/dirs/40102/docs/482086423?answerNo=8', 'content': '더보기 현재 테슬라(TSLA) 주가는281.95달러로 전 거래일 대비-3.04% 하락한 상태입니다. 캔들 차트를 보면 최근 하락세가 뚜렷하며,하락 채널(Downtrend Channel)내에서 지속적으로 하락하고 있습니다.https://jumsblog.tistory.com/50테슬라(TSLA) 주가 차트 분석 및 전망 (2025년 2월 28일 기준)1. 테슬라 주가 현황현재 테슬라(TSLA) 주가는 281.95달러로 전 거래일 대비 -3.04% 하락한 상태입니다. 캔들 차트를 보면 최근 하락세가 뚜렷하며, 하락 채널(Downtrend Channel) 내에서 지속적으로 하락하고 있습니다.시가: 291.16달러고가: 297.23달러저가: 280.88달러현재가: 281.95달러변동폭: -8.85달러 (-3.04%)최근 고점(약 500달러)에서 지속적인 하락세를 보이며, 단기적 하락 추세가 유지되고 있습니다. 차트에 그려진 **하락 채널(노란색 선)**을 보면, 현재 주가는 하락 [...] 더보기 안녕하세요 질문자님.먼저 주식을 입문하시기 전에 주식에 관한 공부가 반드시 필요하다는 점 말씀드리고 싶습니다.지적을 하는 글이 아니며, 자신의 자산을 소중하게 다루어야 한다는 것을 알리고 싶습니다..제가 생각하기에 2025년의 테슬라는 전기차 시장의 선두주자로서 자율주행과 배터리 기술 혁신에 큰 투자를 하고 있습니다. 이로 인해 2025년 주가는 $300~$400로 상승할 가능성이 높아 보입니다. 그러나 경쟁사들의 성장이 변수로 작용할 수 있어, 장기적인 관점에서 분할 매수 전략을 고려하는 것이 바람직합니다.테슬라에 관해 더욱 자세한 분석글을 보고 싶으시다면 아래 글을 참고하시길 바랍니다.\\u200b* 채택된 답변의 해피빈은 불우이웃에게 기부하오니,답변이 마음에 드셨다면 채택부탁드립니다.\\u200b테슬라 주가 전망 2025 투자 전략 파헤치기테슬라의 미래, 지금 투자해야 할까?최근 몇 년간 테슬라 주가 전망은 급격한 변동을 보여왔습니다. 전기차 시장의 선두주자로 자리 잡았으며, 자율주행 [...] 본문 더보기\\nUPDOWN\\n댓글\\n 푸른하늘은하수물신eXpert 뱃지 2025.02.28\\n메뉴 더보기\\n 1:1 상담 [톡50분, 음성30분] 아프지 말고 혼자 고민하지 마세요. 판매가45,000원\\n접기\\n더보기 테슬라는 애플과 같은 세상을 바꾸는 기업이죠. 그 CEO 일론 머스크 역시도 그 옛날 에디슨과 같은 세상을 바꾸고 있는 인물입니다. 전 6년 전부터 장기투자 중인데, 무지성 보다는 잘 알고 투자해서 꼭 성공하고 부자 되세요.^^ 2025 FSD 중국 승인과 사이버캡, 그리고 주가전망https://vo.la/azJvtJ 더보기\\nUPDOWN\\n댓글\\n12개 더보기\\n엑스퍼트 추천 상품\\n바로가기\\n조현걸 CFP2023년 새로운 부동산 설계 콘서트 판매가100,000원3회\\n 접속중\\n박수연AFPK\\ufeff내 보험 바로알기 (feat. 보험 고민 상담소) 판매가30,000원30분\\n 접속중\\n함께 보면 좋은 키워드'}\n",
      "----------------------------------------------------------------------------------------------------\n",
      "{'url': 'https://m.kin.naver.com/qna/dirs/40102/docs/460425790?qb=7YWM7Iqs6528IOyjvOyLnQ==&enc=utf8&section=kin.qna_ency&rank=4&search_sort=0&spq=0', 'content': '테슬라 주식의 최근 동향에 대해 ... \\u200b테슬라 주가 전망에 대한 자세한 내용입니다.https://m.site.naver.com/1rV2L테슬라 주가 전망테슬라 주가의 상승과 하락 전망을 분석'}\n",
      "----------------------------------------------------------------------------------------------------\n",
      "{'url': 'https://m.post.naver.com/viewer/postView.naver?volumeNo=46241761&memberNo=2966116', 'content': 'BEST댓글 운영 기준 안내안내 레이어 보기\\nBEST 댓글공감 투표 비율이 높은 댓글입니다.\\n비정상적인 방법으로 공감수가 증가하거나 타인에게 불쾌감을 주는 경우, 예고없이 제외될 수 있습니다.\\nBEST댓글 운영 기준 안내 레이어 닫기\\n\\n\\n\\n나는서희\\n잘보고 갑니다~ 추운날씨 건강 유의하세요~^^\\n2025-02-13 04:58신고\\n답글0\\n공감/비공감공감_0_비공감_0_\\n\\n\\n\\nath\\n테슬라 분석글 잘 읽었습니다 감사합니다 ^^\\n2025-01-24 10:48신고\\n답글0\\n공감/비공감공감_0_비공감_0_\\n\\n\\n\\ngnay****\\n미국이 중국에 관세를 매기기 시작하면 중국도 미국산 제품에 보복관세를 매기지 않을까요?\\n그러면 테슬라의 중국내 판매량도 늘어나긴 어렵지 않을까 싶습니다\\n2025-01-12 09:59신고\\n답글0\\n공감/비공감공감_1_비공감_0_\\n\\n\\n더보기\\n전체 댓글 더보기\\n### 이 에디터의 인기 포스트\\n더보기 [...] 글 : 순땡이(ft.전문필진)\\n기획/편집 : 월재연  \\n<함께 공부하면 좋은 콘텐츠>\\n 동영상버튼을 누르면 현재 화면에서 재생됩니다. 배당금 높은 미국 주식 배당주 인기순위 BEST 7 꾸준히 인기가 많은 배당금 높은 미국 주식 종목은 어떤 것이 있을까요?배당수익률 기준으로 1위부터 7위까지 미국 배당주 순위를 정리했습니다.미국 주식으로 따박따박 안정적인 배당을 받고 싶다면 한번쯤 참조해보세요. youtu.be\\n#트럼프취임 #테슬라주식 #테슬라주가 #테슬라 #트럼프주가 #테슬라전망 #월급쟁이재테크연구카페 #월재연카페 #월재연\\n2025.01.10. 14:39 3,790 읽음\\n9\\n좋아요 한 사람 보러가기\\n3__개의 댓글이 있습니다. 댓글 보기\\n블로그 보내기카페 보내기Keep에 저장메모에 저장공유하기 레이어 열기\\n글쓴이 정보\\n 월급쟁이 재테크 연구 팔로워 77,775 7만 팔로워 Naver No.1 <월급쟁이 재테크 연구 카페> 포스트팔로우 팔로잉\\n### 시리즈 재테크 칼럼 [...] 지난\\xa0미\\xa0대선에서\\xa0트럼프\\xa0대통령\\xa0재선이\\xa0확정됨에\\xa0따라\\xa0트럼프를\\xa0적극\\xa0지지하던\\xa0일론\\xa0머스크\\xa0CEO가\\xa0운영하는\\xa0테슬라의\\xa0주가가\\xa0폭등하고\\xa0있다.\\xa0당선\\xa0소식\\xa0이후부터\\xa02024년\\xa012월\\xa015일까지\\xa0거진\\xa060%\\xa0이상\\xa0테슬라\\xa0주가가\\xa0상승하면서\\xa0단숨에\\xa0신고가\\xa0갱신까지\\xa0도달했다.\\xa0몇\\xa0년간\\xa0전\\xa0고점(약\\xa0403달러)을\\xa0돌파하지\\xa0못하였는데\\xa0트럼프\\xa0당선\\xa0소식\\xa0이후로\\xa0신고가\\xa0갱신을\\xa0한\\xa0셈이다.\\xa0\\n그렇다면,\\xa0신고가\\xa0갱신을\\xa0마친\\xa0테슬라의\\xa0주가\\xa0상승\\xa0이유는\\xa0무엇일까?\\xa0그리고\\xa0향후\\xa0테슬라의\\xa0주가는\\xa0어떤\\xa0흐름을\\xa0보이게\\xa0될까?\\xa0이\\xa0주제에\\xa0대해\\xa0필자의\\xa0주관적인\\xa0생각을\\xa0담아\\xa0분석해보도록\\xa0하겠다.\\n\\n테슬라\\xa0주가\\xa0상승\\xa0배경요인\\xa05가지'}\n",
      "----------------------------------------------------------------------------------------------------\n",
      "{'url': 'https://m.post.naver.com/viewer/postView.naver?volumeNo=46241761&memberNo=2966116', 'content': 'BEST댓글 운영 기준 안내안내 레이어 보기\\nBEST 댓글공감 투표 비율이 높은 댓글입니다.\\n비정상적인 방법으로 공감수가 증가하거나 타인에게 불쾌감을 주는 경우, 예고없이 제외될 수 있습니다.\\nBEST댓글 운영 기준 안내 레이어 닫기\\n\\n\\n\\n나는서희\\n잘보고 갑니다~ 추운날씨 건강 유의하세요~^^\\n2025-02-13 04:58신고\\n답글0\\n공감/비공감공감_0_비공감_0_\\n\\n\\n\\nath\\n테슬라 분석글 잘 읽었습니다 감사합니다 ^^\\n2025-01-24 10:48신고\\n답글0\\n공감/비공감공감_0_비공감_0_\\n\\n\\n\\ngnay****\\n미국이 중국에 관세를 매기기 시작하면 중국도 미국산 제품에 보복관세를 매기지 않을까요?\\n그러면 테슬라의 중국내 판매량도 늘어나긴 어렵지 않을까 싶습니다\\n2025-01-12 09:59신고\\n답글0\\n공감/비공감공감_1_비공감_0_\\n\\n\\n더보기\\n전체 댓글 더보기\\n### 이 에디터의 인기 포스트\\n더보기 [...] 글 : 순땡이(ft.전문필진)\\n기획/편집 : 월재연  \\n<함께 공부하면 좋은 콘텐츠>\\n 동영상버튼을 누르면 현재 화면에서 재생됩니다. 배당금 높은 미국 주식 배당주 인기순위 BEST 7 꾸준히 인기가 많은 배당금 높은 미국 주식 종목은 어떤 것이 있을까요?배당수익률 기준으로 1위부터 7위까지 미국 배당주 순위를 정리했습니다.미국 주식으로 따박따박 안정적인 배당을 받고 싶다면 한번쯤 참조해보세요. youtu.be\\n#트럼프취임 #테슬라주식 #테슬라주가 #테슬라 #트럼프주가 #테슬라전망 #월급쟁이재테크연구카페 #월재연카페 #월재연\\n2025.01.10. 14:39 3,790 읽음\\n9\\n좋아요 한 사람 보러가기\\n3__개의 댓글이 있습니다. 댓글 보기\\n블로그 보내기카페 보내기Keep에 저장메모에 저장공유하기 레이어 열기\\n글쓴이 정보\\n 월급쟁이 재테크 연구 팔로워 77,775 7만 팔로워 Naver No.1 <월급쟁이 재테크 연구 카페> 포스트팔로우 팔로잉\\n### 시리즈 재테크 칼럼 [...] 지난\\xa0미\\xa0대선에서\\xa0트럼프\\xa0대통령\\xa0재선이\\xa0확정됨에\\xa0따라\\xa0트럼프를\\xa0적극\\xa0지지하던\\xa0일론\\xa0머스크\\xa0CEO가\\xa0운영하는\\xa0테슬라의\\xa0주가가\\xa0폭등하고\\xa0있다.\\xa0당선\\xa0소식\\xa0이후부터\\xa02024년\\xa012월\\xa015일까지\\xa0거진\\xa060%\\xa0이상\\xa0테슬라\\xa0주가가\\xa0상승하면서\\xa0단숨에\\xa0신고가\\xa0갱신까지\\xa0도달했다.\\xa0몇\\xa0년간\\xa0전\\xa0고점(약\\xa0403달러)을\\xa0돌파하지\\xa0못하였는데\\xa0트럼프\\xa0당선\\xa0소식\\xa0이후로\\xa0신고가\\xa0갱신을\\xa0한\\xa0셈이다.\\xa0\\n그렇다면,\\xa0신고가\\xa0갱신을\\xa0마친\\xa0테슬라의\\xa0주가\\xa0상승\\xa0이유는\\xa0무엇일까?\\xa0그리고\\xa0향후\\xa0테슬라의\\xa0주가는\\xa0어떤\\xa0흐름을\\xa0보이게\\xa0될까?\\xa0이\\xa0주제에\\xa0대해\\xa0필자의\\xa0주관적인\\xa0생각을\\xa0담아\\xa0분석해보도록\\xa0하겠다.\\n\\n테슬라\\xa0주가\\xa0상승\\xa0배경요인\\xa05가지'}\n",
      "----------------------------------------------------------------------------------------------------\n"
     ]
    }
   ],
   "source": [
    "from langchain_community.tools.tavily_search import TavilySearchResults\n",
    "\n",
    "query = \"2025년 테슬라의 주가 전망에 대해서 분석하세요.\"\n",
    "# web_search = TavilySearchResults(max_results=2)\n",
    "web_search = TavilySearchResults(\n",
    "    max_results=3,  # 검색결과 개수\n",
    "    include_answer=True,\n",
    "    include_raw_content=True,\n",
    "    # include_images=True,\n",
    "    # search_depth=\"advanced\", # or \"basic\"\n",
    "    include_domains=[\"naver.com\", \"wikidocs.net\"],  # 검색할 사이트 한정\n",
    "    # exclude_domains = []\n",
    ")\n",
    "search_results = web_search.invoke(query)\n",
    "for result in search_results:\n",
    "    print(result)\n",
    "    print(\"-\" * 100)"
   ]
  },
  {
   "cell_type": "markdown",
   "metadata": {},
   "source": [
    "# ChatGPT에 최신정보 물어보기"
   ]
  },
  {
   "cell_type": "code",
   "execution_count": 3,
   "metadata": {},
   "outputs": [
    {
     "name": "stdout",
     "output_type": "stream",
     "text": [
      "2024년 한국 뮤지컬 \"시카고\"의 주연 배우에 대한 정보는 제가 가지고 있는 데이터 기준으로는 확인할 수 없습니다. 뮤지컬 캐스팅은 종종 변경되거나 업데이트되기 때문에, 최신 정보를 확인하려면 공식 웹사이트나 관련 뉴스 소스를 참고하는 것이 좋습니다. 공연 일정이나 캐스팅에 대한 정보는 해당 뮤지컬의 공식 발표를 통해 확인할 수 있습니다.\n"
     ]
    }
   ],
   "source": [
    "from langchain_openai import ChatOpenAI\n",
    "from langchain_core.prompts import ChatPromptTemplate\n",
    "\n",
    "prompt = ChatPromptTemplate.from_messages([(\"user\", \"{question}\")])\n",
    "llm = ChatOpenAI(model=\"gpt-4o-mini\", temperature=0)\n",
    "\n",
    "chain = prompt | llm\n",
    "\n",
    "answer = chain.invoke(\n",
    "    {\"question\": \"2024년 한국 뮤지컬 시카고의 주연 배우들은 누구인가요?\"}\n",
    ")\n",
    "\n",
    "print(answer.content)"
   ]
  },
  {
   "cell_type": "code",
   "execution_count": null,
   "metadata": {},
   "outputs": [],
   "source": [
    "# !pip install tavily-python"
   ]
  },
  {
   "cell_type": "markdown",
   "metadata": {},
   "source": [
    "# TavilySearch 사용"
   ]
  },
  {
   "cell_type": "code",
   "execution_count": 4,
   "metadata": {},
   "outputs": [
    {
     "name": "stdout",
     "output_type": "stream",
     "text": [
      "[Document(metadata={'title': \"[풀영상] 2024 뮤지컬 '시카고' 주연배우 인터뷰｜최정원·윤공주·정선아·아이비·티파니 영·민경아·박건형·최재림｜Musical ...\", 'source': 'https://m.korean-vibe.com/news/newsview.php?ncode=179573404581419', 'score': 0.8893851, 'images': []}, page_content='[풀영상] 2024 뮤지컬 ′시카고′ 주연배우 인터뷰｜최정원·윤공주·정선아·아이비·티파니 영·민경아·박건형·최재림｜Musical ′CHICAGO′ [풀영상] 2024 뮤지컬 \\'시카고\\' 주연배우 인터뷰｜최정원·윤공주·정선아·아이비·티파니 영·민경아·박건형·최재림｜Musical \\'CHICAGO\\' 2024년 5월 23일 뮤지컬 \\'시카고\\'의 연습실 장면이 공개됐다. 2024 뮤지컬 \\'시카고\\'는 오는 6월 7일 개막한다. The 2024 musical \"Chicago\" will open on June 7th. (C) Yonhap News Agency. ### K-POP ### K-DRAMA&FILM About K-VIBE Yonhap News Agency | (K-Culture Planning Division) 25, Yulgok-ro 2 gil, Jongno-gu, Seoul, KOREA | President and CEO : Hwang Dae-il | Title : K-VIBE | Tel : +82-2-398-3114(representative) The intellectual property rights of all news and information including articles, photos, graphics and images of K-VIBE are property of Yonhap News Agency and protected by relevant laws. Copyright (c) Yonhap News Agency. K-Talk K-POP K-DRAMA&FILM K-LIFE\\xa0 K-GALLERY\\xa0 K-Star Gallery'), Document(metadata={'title': '2024년 뮤지컬 시카고 줄거리 및 등장인물, 배역 정보 알아보기', 'source': 'https://make-room.co.kr/entry/2024년-뮤지컬-시카고-줄거리-및-등장인물-배역-정보-알아보기', 'score': 0.71305263, 'images': []}, page_content='2024년 뮤지컬 시카고 줄거리 및 등장인물, 배역 정보 알아보기 2024년 뮤지컬 시카고 줄거리 및 등장인물, 배역 정보 알아보기 뮤지컬 시카고는 오리지널 초연 이후에 꾸준히 많은 사랑을 받고 있는 뮤지컬입니다. 오늘은 시카고의 줄거리와 인물들, 그리고 2024년 뮤지컬 시카고의 공연 정보까지 함께 알아보겠습니다. 뮤직컬 시카고 줄거리 및 공연 정보 뮤지컬 시카고 공연 개요 뮤지컬 시카고는 1975년 브로드웨이에서 밥 포시 연출로 초연된 이래, 1996년 리바이벌되어 현재까지 브로드웨이 최장수 공연 기록을 이어가고 있는 스테디셀러입니다. 뮤지컬 시카고 시놉시스 (스포주의!) 그곳에서 동료 수감자이자 더블 머더로 유명세를 탄 벨마 켈리를 만나 인기 변호사 빌리 플린의 도움으로 무죄를 획책하죠. 화려한 스포트라이트에 들뜨지만 이내 허망함을 깨닫고 결국 벨마와 손잡고 무대에 선다. 세련되고 감각적인 무대와 음악, 배우들의 열연이 빛나는 뮤지컬 시카고, 2024년에는 6월부터 9월 말까지 디큐브아트센터에서 만나보실 수 있습니다.'), Document(metadata={'title': '\"객석 점유율 99%\"…2024 뮤지컬 \\'시카고\\' 100회 공연 눈앞', 'source': 'https://www.newdaily.co.kr/site/data/html/2024/08/26/2024082600035.html', 'score': 0.38428864, 'images': []}, page_content='\"객석 점유율 99%\"…2024 뮤지컬 \\'시카고\\' 100회 공연 눈앞 | Save Internet 뉴데일리 \"객석 점유율 99%\"…2024 뮤지컬 \\'시카고\\' 100회 공연 눈앞 오는 28일 시즌 100회 공연, 9월 29일까지 디큐브 링크아트센터역대 최고 성적 달성…10월 전주 시작으로 11개 지역 투어 ▲ 뮤지컬 \\'시카고\\' 공연 장면.ⓒ신시컴퍼니 지난 6월 7일 프리뷰 공연을 시작으로 막을 올린 뮤지컬 \\'시카고\\'가 오는 28일 시즌 100회 공연을 맞는다 2000년 국내 초연된 \\'시카고\\'는 17번째 시즌을 거치며 약 1600회 공연, 166만 여명이 관람했다. ▲ 뮤지컬 \\'시카고\\' 100회 전체 이미지.ⓒ신시컴퍼니 \\'시카고\\'는 10월 4일 전주를 시작으로 광주·일산·창원·울산·천안·수원·청주·대구·부산·세종 등 11개 도시 투어도 앞두고 있다. Copyrights ⓒ 2005 뉴데일리 NewDaily 보도자료 및 기사제보 이재명, 대통령 된 듯 … 이제 \\'민주당의 반민주 행태\\'가 심판받을 때다 02[윤서인의 뉴데툰] 고통받던 삶 04이재명, 대통령 된 듯 … 이제 \\'민주당의 반민주 행태\\'가 심판받을 때다')]\n"
     ]
    }
   ],
   "source": [
    "from langchain_community.retrievers import TavilySearchAPIRetriever\n",
    "\n",
    "retriever = TavilySearchAPIRetriever(k=3)\n",
    "result = retriever.invoke(\"2024년 한국 뮤지컬 시카고의 주연 배우들은 누구인가요?\")\n",
    "print(result)"
   ]
  },
  {
   "cell_type": "markdown",
   "metadata": {},
   "source": [
    "# TavilySearch + LLM"
   ]
  },
  {
   "cell_type": "code",
   "execution_count": 5,
   "metadata": {},
   "outputs": [
    {
     "name": "stdout",
     "output_type": "stream",
     "text": [
      "2024년 한국 뮤지컬 '시카고'의 주연 배우들은 최정원, 윤공주, 정선아, 아이비, 티파니 영, 민경아, 박건형, 최재림입니다.\n"
     ]
    }
   ],
   "source": [
    "from langchain_openai import ChatOpenAI\n",
    "from langchain_community.retrievers import TavilySearchAPIRetriever\n",
    "from langchain_core.runnables import RunnablePassthrough\n",
    "from langchain_core.output_parsers import StrOutputParser\n",
    "from langchain_core.prompts import PromptTemplate\n",
    "\n",
    "\n",
    "def format_docs(docs):\n",
    "    return \"\\n\\n\".join([d.page_content for d in docs])\n",
    "\n",
    "\n",
    "prompt = PromptTemplate.from_template(\n",
    "    \"\"\"You are an assistant for question-answering tasks. \n",
    "Use the following pieces of retrieved context to answer the question. \n",
    "If you don't know the answer, just say that you don't know. \n",
    "Answer in Korean.\n",
    "\n",
    "#Question: \n",
    "{question} \n",
    "#Context: \n",
    "{context} \n",
    "\n",
    "#Answer:\"\"\"\n",
    ")\n",
    "llm = ChatOpenAI(model=\"gpt-4o-mini\", temperature=0)\n",
    "retriever = TavilySearchAPIRetriever(k=3)\n",
    "\n",
    "chain = (\n",
    "    {\"context\": retriever | format_docs, \"question\": RunnablePassthrough()}\n",
    "    | prompt\n",
    "    | llm\n",
    "    | StrOutputParser()\n",
    ")\n",
    "\n",
    "result = chain.invoke(\"2024년 한국 뮤지컬 시카고의 주연 배우들은 누구인가요?\")\n",
    "\n",
    "print(result)"
   ]
  },
  {
   "cell_type": "code",
   "execution_count": null,
   "metadata": {},
   "outputs": [],
   "source": []
  }
 ],
 "metadata": {
  "kernelspec": {
   "display_name": "ragstudy-L89wIJFw-py3.11",
   "language": "python",
   "name": "python3"
  },
  "language_info": {
   "codemirror_mode": {
    "name": "ipython",
    "version": 3
   },
   "file_extension": ".py",
   "mimetype": "text/x-python",
   "name": "python",
   "nbconvert_exporter": "python",
   "pygments_lexer": "ipython3",
   "version": "3.11.9"
  }
 },
 "nbformat": 4,
 "nbformat_minor": 2
}
