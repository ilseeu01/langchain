{
 "cells": [
  {
   "cell_type": "markdown",
   "metadata": {},
   "source": [
    "### LMstudio 사용"
   ]
  },
  {
   "cell_type": "markdown",
   "metadata": {},
   "source": [
    "### langchain 사용"
   ]
  },
  {
   "cell_type": "code",
   "execution_count": 1,
   "metadata": {},
   "outputs": [
    {
     "name": "stdout",
     "output_type": "stream",
     "text": [
      "## 대한민국 인구 현황 (2024년 기준)\n",
      "\n",
      "대한민국은 2023년 기준 인구가 약 **5,192만 명**으로, 세계적으로는 12위의 인구가 많은 나라입니다. \n",
      "\n",
      "**인구 구성:**\n",
      "\n",
      "*   **남성:** 약 49.8% (약 2억 2천만 명)\n",
      "*   **여성:** 약 50.2% (약 2억 6천만 명)\n",
      "*   **나이 순:**\n",
      "    *   0-19세: 약 21.8% (약 1억 3천만 명) - 가장 큰 비율\n",
      "    *   20-64세: 약 47.5% (약 1억 8천만 명) - 인구의 대부분을 차지\n",
      "    *   65세 이상: 약 21.7% (약 1억 1천만 명)\n",
      "\n",
      "**인구 변화:**\n",
      "\n",
      "*   **출산율 현황:** 2023년 이후 출산율이 감소하고 있으며, 이는 대한민국 인구의 지속적인 감소를 의미합니다.\n",
      "*   **고령화:** 고령화가 심화되면서 노동력 부족과 사회 복지 부담 증가 등의 문제가 발생하고 있습니다.\n",
      "*   **인구 감소 속도:** 2023년 기준 인구 감소율은 약 0.9%로, OECD 국가 중 가장 높은 수준입니다.\n",
      "\n",
      "**참고 자료:**\n",
      "\n",
      "*   통계청: [https://kostat.go.kr/](https://kostat.go.kr/)\n",
      "*   인구사회연구원: [https://www.insisya.org/](https://www.insisya.org/)\n",
      "\n",
      "더 자세한 정보가 필요하시면 언제든지 질문해주세요!\n"
     ]
    }
   ],
   "source": [
    "# from langchain.chat_models import ChatOpenAI\n",
    "from langchain_openai import ChatOpenAI\n",
    "from langchain_core.output_parsers import StrOutputParser\n",
    "from langchain_core.prompts import ChatPromptTemplate\n",
    "\n",
    "# LM Studio 모델을 불러옵니다.\n",
    "llm = ChatOpenAI(\n",
    "    openai_api_base=\"http://localhost:12345/v1\",\n",
    "    openai_api_key=\"lm-studio\",  # 아무 문자열이나 가능 (LM Studio는 키 검사 안 함)\n",
    "    model_name=\"gemma-3-1b-it\",        # LM Studio에서 사용 중인 모델 이름\n",
    "    temperature=0.7,\n",
    ")\n",
    "\n",
    "# 프롬프트\n",
    "prompt = ChatPromptTemplate.from_template(\"{topic} 에 대하여 간략히 설명해 줘.\")\n",
    "\n",
    "# 체인 생성\n",
    "chain = prompt | llm | StrOutputParser()\n",
    "\n",
    "# 간결성을 위해 응답은 터미널에 출력됩니다.\n",
    "answer = chain.invoke({\"topic\": \"대한민국의 인구\"})\n",
    "\n",
    "print(answer)"
   ]
  },
  {
   "cell_type": "code",
   "execution_count": null,
   "metadata": {},
   "outputs": [],
   "source": []
  }
 ],
 "metadata": {
  "kernelspec": {
   "display_name": "ragstudy-L89wIJFw-py3.11",
   "language": "python",
   "name": "python3"
  },
  "language_info": {
   "codemirror_mode": {
    "name": "ipython",
    "version": 3
   },
   "file_extension": ".py",
   "mimetype": "text/x-python",
   "name": "python",
   "nbconvert_exporter": "python",
   "pygments_lexer": "ipython3",
   "version": "3.11.9"
  }
 },
 "nbformat": 4,
 "nbformat_minor": 2
}
