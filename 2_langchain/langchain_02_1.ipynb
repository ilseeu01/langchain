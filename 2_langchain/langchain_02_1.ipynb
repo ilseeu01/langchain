{
 "cells": [
  {
   "cell_type": "code",
   "execution_count": 1,
   "metadata": {},
   "outputs": [
    {
     "data": {
      "text/plain": [
       "True"
      ]
     },
     "execution_count": 1,
     "metadata": {},
     "output_type": "execute_result"
    }
   ],
   "source": [
    "from dotenv import load_dotenv\n",
    "# API KEY 정보 불러오기\n",
    "load_dotenv()"
   ]
  },
  {
   "cell_type": "code",
   "execution_count": null,
   "metadata": {},
   "outputs": [],
   "source": [
    "from langchain_core.prompts import ChatPromptTemplate\n",
    "from langchain_openai import ChatOpenAI\n",
    "from langchain_core.output_parsers import StrOutputParser\n",
    "\n",
    "# 프롬프트\n",
    "prompt = ChatPromptTemplate.from_messages(\n",
    "    [\n",
    "        (\"system\", \"당신은 친절한 AI 어시스턴트입니다\"),\n",
    "        (\"user\", \"#Question:\\n{question}\"),\n",
    "    ]\n",
    ")\n",
    "# 모델\n",
    "llm = ChatOpenAI(model_name=\"gpt-4o\", temperature=0)\n",
    "\n",
    "# 출력파서\n",
    "output_parser = StrOutputParser()\n",
    "\n",
    "# 체인생성\n",
    "chain = prompt | llm | output_parser\n",
    "\n",
    "user_input = \"대한민국의 주요 관광지를 알려줘\"\n",
    "response = chain.invoke({\"question\": user_input})\n",
    "print(response)\n",
    "\n",
    "user_input = \"위 답변을 요약해줘.\"\n",
    "response = chain.invoke({\"question\": user_input})\n",
    "print(response)\n",
    "# 이전 대화를 기억하지 못함"
   ]
  },
  {
   "cell_type": "markdown",
   "metadata": {},
   "source": [
    "# 대화 맥락을 기억하도록 수정"
   ]
  },
  {
   "cell_type": "code",
   "execution_count": null,
   "metadata": {},
   "outputs": [],
   "source": [
    "#수정\n",
    "from langchain_core.prompts import ChatPromptTemplate, MessagesPlaceholder\n",
    "from langchain_openai import ChatOpenAI\n",
    "from langchain_core.output_parsers import StrOutputParser\n",
    "from langchain.memory import ConversationBufferMemory\n",
    "from langchain_core.runnables.history import RunnableWithMessageHistory\n",
    "from langchain.memory import ChatMessageHistory\n",
    "\n",
    "# 프롬프트\n",
    "prompt = ChatPromptTemplate.from_messages(\n",
    "    [\n",
    "        (\"system\", \"당신은 친절한 AI 어시스턴트입니다\"),\n",
    "         MessagesPlaceholder(variable_name=\"chat_history\"),  # 대화 맥락 유지\n",
    "        (\"user\", \"{question}\"),\n",
    "    ]\n",
    ")\n",
    "# 모델\n",
    "llm = ChatOpenAI(model_name=\"gpt-4o\", temperature=0)\n",
    "\n",
    "# 출력파서\n",
    "output_parser = StrOutputParser()\n",
    "\n",
    "# 메모리 객체 생성\n",
    "memory = ConversationBufferMemory(return_messages=True)\n",
    "\n",
    "# 체인생성\n",
    "chain = prompt | llm | output_parser\n",
    "\n",
    "# 세션별 히스토리 저장소\n",
    "session_histories = {}\n",
    "\n",
    "# 세션 히스토리 리턴 함수 (필수!)\n",
    "def get_session_history(session_id):\n",
    "    if session_id not in session_histories:\n",
    "        session_histories[session_id] = ChatMessageHistory()\n",
    "    return session_histories[session_id]\n",
    "\n",
    "# 히스토리 기반 체인 생성\n",
    "chat_chain = RunnableWithMessageHistory(\n",
    "    chain,\n",
    "    get_session_history=get_session_history,\n",
    "    input_messages_key=\"question\",        # 사용자 메시지 키\n",
    "    history_messages_key=\"chat_history\",  # 프롬프트에서 사용하는 히스토리 키\n",
    ")\n",
    "\n",
    "# 세션 ID (하나의 대화 흐름 단위)\n",
    "session_id = \"user-session-001\""
   ]
  },
  {
   "cell_type": "code",
   "execution_count": null,
   "metadata": {},
   "outputs": [
    {
     "name": "stdout",
     "output_type": "stream",
     "text": [
      "대한민국에는 다양한 매력을 가진 관광지가 많이 있습니다. 다음은 몇 가지 주요 관광지입니다:\n",
      "\n",
      "1. **서울**\n",
      "   - **경복궁**: 조선 시대의 대표적인 궁궐로, 한국의 전통 건축을 감상할 수 있습니다.\n",
      "   - **북촌 한옥마을**: 전통 한옥이 잘 보존된 지역으로, 한국의 전통 가옥을 체험할 수 있습니다.\n",
      "   - **N서울타워**: 서울의 전경을 한눈에 볼 수 있는 전망대입니다.\n",
      "   - **명동**: 쇼핑과 다양한 먹거리를 즐길 수 있는 번화가입니다.\n",
      "\n",
      "2. **부산**\n",
      "   - **해운대 해수욕장**: 한국에서 가장 유명한 해변 중 하나로, 여름철 많은 관광객이 찾습니다.\n",
      "   - **감천문화마을**: 알록달록한 집들이 모여 있는 예술적인 마을입니다.\n",
      "   - **자갈치 시장**: 신선한 해산물을 맛볼 수 있는 전통 시장입니다.\n",
      "\n",
      "3. **경주**\n",
      "   - **불국사**: 유네스코 세계문화유산으로 지정된 사찰로, 아름다운 건축물과 자연 경관을 자랑합니다.\n",
      "   - **석굴암**: 불국사와 함께 유네스코 세계문화유산으로 지정된 석굴 사원입니다.\n",
      "   - **첨성대**: 동양에서 가장 오래된 천문대 중 하나입니다.\n",
      "\n",
      "4. **제주도**\n",
      "   - **한라산**: 제주도의 중심에 위치한 산으로, 등산과 자연 경관을 즐길 수 있습니다.\n",
      "   - **성산일출봉**: 일출 명소로 유명하며, 유네스코 세계자연유산으로 지정되었습니다.\n",
      "   - **천지연 폭포**: 아름다운 폭포와 주변 자연 경관이 인상적입니다.\n",
      "\n",
      "5. **전주**\n",
      "   - **전주 한옥마을**: 전통 한옥이 밀집해 있는 지역으로, 한국의 전통 문화를 체험할 수 있습니다.\n",
      "   - **전주비빔밥**: 전주의 대표적인 음식으로, 다양한 재료가 어우러진 맛을 즐길 수 있습니다.\n",
      "\n",
      "이 외에도 대한민국에는 다양한 자연 경관과 문화유산이 많으니, 여행 계획 시 여러 지역을 탐방해 보시길 추천합니다.\n"
     ]
    }
   ],
   "source": [
    "user_input = \"대한민국의 주요 관광지를 알려줘\"\n",
    "response = chat_chain.invoke({\"question\": user_input}, config={\"configurable\": {\"session_id\": session_id}})\n",
    "print(response)"
   ]
  },
  {
   "cell_type": "code",
   "execution_count": null,
   "metadata": {},
   "outputs": [
    {
     "name": "stdout",
     "output_type": "stream",
     "text": [
      "대한민국의 주요 관광지로는 서울의 경복궁, 북촌 한옥마을, N서울타워, 명동, 부산의 해운대 해수욕장, 감천문화마을, 자갈치 시장, 경주의 불국사, 석굴암, 첨성대, 제주도의 한라산, 성산일출봉, 천지연 폭포, 전주의 전주 한옥마을과 전주비빔밥 등이 있습니다. 각 지역은 전통 문화, 자연 경관, 현대적 매력을 다양하게 제공합니다.\n"
     ]
    }
   ],
   "source": [
    "user_input = \"위 답변을 요약해줘.\"\n",
    "response = chat_chain.invoke({\"question\": user_input}, config={\"configurable\": {\"session_id\": session_id}})\n",
    "print(response)"
   ]
  },
  {
   "cell_type": "code",
   "execution_count": 24,
   "metadata": {},
   "outputs": [
    {
     "name": "stdout",
     "output_type": "stream",
     "text": [
      "반가워요, 양경성님! 만나서 정말 기쁩니다. 오늘 어떻게 도와드릴까요?\n"
     ]
    }
   ],
   "source": [
    "# 테스트 입력2\n",
    "user_input2 = \"내 이름은 양경성이야. 반가워\"\n",
    "response = chat_chain.invoke({\"question\": user_input2}, config={\"configurable\": {\"session_id\": session_id}})\n",
    "print(response)"
   ]
  },
  {
   "cell_type": "code",
   "execution_count": 25,
   "metadata": {},
   "outputs": [
    {
     "name": "stdout",
     "output_type": "stream",
     "text": [
      "당신의 이름은 양경성이에요. 맞나요?\n"
     ]
    }
   ],
   "source": [
    "# 테스트 입력2\n",
    "user_input2 = \"내 이름이 뭐라고?\"\n",
    "response = chat_chain.invoke({\"question\": user_input2}, config={\"configurable\": {\"session_id\": session_id}})\n",
    "print(response)"
   ]
  }
 ],
 "metadata": {
  "kernelspec": {
   "display_name": "ragstudy-L89wIJFw-py3.11",
   "language": "python",
   "name": "python3"
  },
  "language_info": {
   "codemirror_mode": {
    "name": "ipython",
    "version": 3
   },
   "file_extension": ".py",
   "mimetype": "text/x-python",
   "name": "python",
   "nbconvert_exporter": "python",
   "pygments_lexer": "ipython3",
   "version": "3.11.9"
  }
 },
 "nbformat": 4,
 "nbformat_minor": 2
}
